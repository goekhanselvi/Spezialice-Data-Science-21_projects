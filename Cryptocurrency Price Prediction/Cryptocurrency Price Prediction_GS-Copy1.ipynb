{
 "cells": [
  {
   "cell_type": "markdown",
   "id": "32a063a5-64d6-4d0f-8a88-87dcfe066a6d",
   "metadata": {},
   "source": [
    "# Cryptocurrency Price Prediction with Machine Learning"
   ]
  },
  {
   "cell_type": "markdown",
   "id": "b5e456e7-7db0-4e67-970f-0be40b2b0bb7",
   "metadata": {},
   "source": [
    "<img src='xy.jpg' width=800>"
   ]
  },
  {
   "cell_type": "raw",
   "id": "38b6e263-f319-46de-88c2-793840501fce",
   "metadata": {},
   "source": [
    "Şifrelenmiş ve merkezi olmayan dijital bir değişim ortamıdır. Birçok kişi kripto para birimlerini bir yatırım şekli olarak kullanır, çünkü kısa bir süre içinde bile büyük getiri sağlar. Bitcoin, Ethereum ve Binance Coin günümüzde popüler kripto para birimleri arasındadır.\n",
    "\n",
    "Makine Öğrenimi ile Kripto Para Fiyat Tahmini\n",
    "Kripto para birimlerinin fiyatını tahmin etmek, veri bilimi topluluğundaki popüler vaka çalışmalarından biridir. Hisse senetlerinin ve kripto para birimlerinin fiyatları sadece onları satın alan veya satan kişilerin sayısına bağlı değildir. Günümüzde bu yatırımların fiyatlarındaki değişim, hükümetin herhangi bir kripto para ile ilgili finansal politikalarındaki değişikliklere de bağlıdır. İnsanların belirli bir kripto para birimine veya bir kripto para birimini doğrudan veya dolaylı olarak onaylayan kişiliğe karşı duyguları, aynı zamanda belirli bir kripto para biriminin büyük bir alım satımına neden olur ve bu da fiyatlarda bir değişikliğe neden olur.\n",
    "\n",
    "Kısacası, alım satım herhangi bir kripto para biriminin fiyatında bir değişikliğe neden olur, ancak alım satım eğilimleri birçok faktöre bağlıdır. Kripto para birimi fiyat tahmini için makine öğrenimini kullanmak, yalnızca insanların kripto para birimlerini alıp satmadan önce gördükleri tarihsel fiyatlar nedeniyle fiyatların değiştiği durumlarda işe yarayabilir. Bu nedenle, aşağıdaki bölümde, önümüzdeki 30 gün için bitcoin fiyatlarını (en popüler kripto para birimlerinden biri olan) nasıl tahmin edebileceğinizi anlatacağım.\n",
    "\n",
    "Python kullanarak Kripto Para Fiyat Tahmini\n",
    "Gerekli Python kütüphanelerini ve ihtiyacımız olan veri setini içe aktararak Kripto para fiyat tahmini görevine başlayacağım. Bu görev için, en son Bitcoin fiyatları verilerini toplayacağım Yahoo Finans, kullanarak yfinance API'si. Bu, bu kodu her çalıştırdığınızda en son verileri toplamanıza yardımcı olacaktır:"
   ]
  },
  {
   "cell_type": "code",
   "execution_count": 25,
   "id": "e7765789-49df-4d87-a7cc-2cd616537d87",
   "metadata": {},
   "outputs": [],
   "source": [
    "import pandas as pd\n",
    "import yfinance as yf\n",
    "import datetime\n",
    "from datetime import date, timedelta\n",
    "today = date.today()\n",
    "from bs4 import BeautifulSoup as soup\n",
    "import requests # inrternetten veri çekmeye yarar\n",
    "import time ## veri çekerken arada bekler ve bizim bot olmadığımızı anlatır\n",
    "import random\n",
    "import numpy as np"
   ]
  },
  {
   "cell_type": "code",
   "execution_count": 27,
   "id": "30dd7d0f-d741-42c7-8b7a-bd7c43b1fda8",
   "metadata": {},
   "outputs": [],
   "source": [
    "page=requests.get('https://finance.yahoo.com/quote/BTC-USD/history/?frequency=1d&filter=history&period1=1753019491&period2=1753451392')"
   ]
  },
  {
   "cell_type": "code",
   "execution_count": 29,
   "id": "dd497907-a220-4ecb-88bd-0c5fa42be381",
   "metadata": {},
   "outputs": [
    {
     "data": {
      "text/plain": [
       "b'Edge: Too Many Requests'"
      ]
     },
     "execution_count": 29,
     "metadata": {},
     "output_type": "execute_result"
    }
   ],
   "source": [
    "page.content"
   ]
  },
  {
   "cell_type": "code",
   "execution_count": 31,
   "id": "0dcb316c-7a97-4f92-864b-cea77d8483ee",
   "metadata": {},
   "outputs": [],
   "source": [
    "sp=soup"
   ]
  },
  {
   "cell_type": "code",
   "execution_count": 33,
   "id": "c25dac6a-1753-408e-b33d-d436db9a0f54",
   "metadata": {},
   "outputs": [],
   "source": [
    "sp=soup(page.content,'html.parser')"
   ]
  },
  {
   "cell_type": "code",
   "execution_count": 35,
   "id": "f547b275-ffb1-46bc-a4c1-39b44df14aa8",
   "metadata": {},
   "outputs": [],
   "source": [
    "sp2=sp.prettify"
   ]
  },
  {
   "cell_type": "code",
   "execution_count": 37,
   "id": "549fa3ba-5a2a-458e-99de-214109bdd231",
   "metadata": {},
   "outputs": [],
   "source": [
    "bitcoin=sp.find('p')"
   ]
  },
  {
   "cell_type": "code",
   "execution_count": 39,
   "id": "2cd42eb6-989a-46ac-ace6-5c5c4b260644",
   "metadata": {},
   "outputs": [],
   "source": [
    "page=requests.get('https://finance.yahoo.com/quote/BTC-USD/history/?frequency=1d&filter=history&period1=1753019491&period2=1753451392')"
   ]
  },
  {
   "cell_type": "code",
   "execution_count": null,
   "id": "0e07688b-ad7c-4707-96c4-ff7759124409",
   "metadata": {},
   "outputs": [],
   "source": []
  }
 ],
 "metadata": {
  "kernelspec": {
   "display_name": "Python [conda env:base] *",
   "language": "python",
   "name": "conda-base-py"
  },
  "language_info": {
   "codemirror_mode": {
    "name": "ipython",
    "version": 3
   },
   "file_extension": ".py",
   "mimetype": "text/x-python",
   "name": "python",
   "nbconvert_exporter": "python",
   "pygments_lexer": "ipython3",
   "version": "3.12.7"
  }
 },
 "nbformat": 4,
 "nbformat_minor": 5
}
