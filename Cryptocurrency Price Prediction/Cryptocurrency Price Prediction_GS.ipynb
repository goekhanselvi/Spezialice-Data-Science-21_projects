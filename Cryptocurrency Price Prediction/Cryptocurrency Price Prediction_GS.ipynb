{
 "cells": [
  {
   "cell_type": "markdown",
   "id": "32a063a5-64d6-4d0f-8a88-87dcfe066a6d",
   "metadata": {},
   "source": [
    "# Cryptocurrency Price Prediction with Machine Learning"
   ]
  },
  {
   "cell_type": "markdown",
   "id": "b5e456e7-7db0-4e67-970f-0be40b2b0bb7",
   "metadata": {},
   "source": [
    "<img src='xy.jpg' width=800>"
   ]
  },
  {
   "cell_type": "raw",
   "id": "38b6e263-f319-46de-88c2-793840501fce",
   "metadata": {},
   "source": [
    "Şifrelenmiş ve merkezi olmayan dijital bir değişim ortamıdır. Birçok kişi kripto para birimlerini bir yatırım şekli olarak kullanır, çünkü kısa bir süre içinde bile büyük getiri sağlar. Bitcoin, Ethereum ve Binance Coin günümüzde popüler kripto para birimleri arasındadır.\n",
    "\n",
    "Makine Öğrenimi ile Kripto Para Fiyat Tahmini\n",
    "Kripto para birimlerinin fiyatını tahmin etmek, veri bilimi topluluğundaki popüler vaka çalışmalarından biridir. Hisse senetlerinin ve kripto para birimlerinin fiyatları sadece onları satın alan veya satan kişilerin sayısına bağlı değildir. Günümüzde bu yatırımların fiyatlarındaki değişim, hükümetin herhangi bir kripto para ile ilgili finansal politikalarındaki değişikliklere de bağlıdır. İnsanların belirli bir kripto para birimine veya bir kripto para birimini doğrudan veya dolaylı olarak onaylayan kişiliğe karşı duyguları, aynı zamanda belirli bir kripto para biriminin büyük bir alım satımına neden olur ve bu da fiyatlarda bir değişikliğe neden olur.\n",
    "\n",
    "Kısacası, alım satım herhangi bir kripto para biriminin fiyatında bir değişikliğe neden olur, ancak alım satım eğilimleri birçok faktöre bağlıdır. Kripto para birimi fiyat tahmini için makine öğrenimini kullanmak, yalnızca insanların kripto para birimlerini alıp satmadan önce gördükleri tarihsel fiyatlar nedeniyle fiyatların değiştiği durumlarda işe yarayabilir. Bu nedenle, aşağıdaki bölümde, önümüzdeki 30 gün için bitcoin fiyatlarını (en popüler kripto para birimlerinden biri olan) nasıl tahmin edebileceğinizi anlatacağım.\n",
    "\n",
    "Python kullanarak Kripto Para Fiyat Tahmini\n",
    "Gerekli Python kütüphanelerini ve ihtiyacımız olan veri setini içe aktararak Kripto para fiyat tahmini görevine başlayacağım. Bu görev için, en son Bitcoin fiyatları verilerini toplayacağım Yahoo Finans, kullanarak yfinance API'si. Bu, bu kodu her çalıştırdığınızda en son verileri toplamanıza yardımcı olacaktır:"
   ]
  },
  {
   "cell_type": "code",
   "execution_count": 3,
   "id": "34db76c6-a8f5-4d15-967c-896e9b9efcb0",
   "metadata": {},
   "outputs": [],
   "source": [
    "import pandas as pd\n",
    "import yfinance as yf\n",
    "import datetime\n",
    "from datetime import date, timedelta\n",
    "today = date.today()\n",
    "from bs4 import BeautifulSoup\n",
    "import requests # inrternetten veri çekmeye yarar\n",
    "import time ## veri çekerken arada bekler ve bizim bot olmadığımızı anlatır\n",
    "import random\n",
    "import numpy as np"
   ]
  },
  {
   "cell_type": "code",
   "execution_count": 4,
   "id": "bb87f48f-36a9-4746-807e-0e7d0a28dade",
   "metadata": {},
   "outputs": [],
   "source": [
    "headers = {'User-Agent': 'Mozilla/5.0 (Windows NT 10.0; Win64; x64) AppleWebKit/537.36 (KHTML, like Gecko) Chrome/58.0.3029.110 Safari/537.3'}"
   ]
  },
  {
   "cell_type": "code",
   "execution_count": 5,
   "id": "cab6605f-20eb-49c8-bd5c-e7bc573ee8a1",
   "metadata": {},
   "outputs": [],
   "source": [
    "base_url='https://finance.yahoo.com/quote/BTC-USD/history/?frequency=1d&filter=history&period1=1753019491&period2=1753451392'\n",
    "page=[f\"{base_url}{i}\" for i in range(1,3)]"
   ]
  },
  {
   "cell_type": "code",
   "execution_count": 7,
   "id": "08823c58-c7b2-434a-bfdc-c66499620bb3",
   "metadata": {},
   "outputs": [
    {
     "name": "stdout",
     "output_type": "stream",
     "text": [
      "['https://finance.yahoo.com/quote/BTC-USD/history/?frequency=1d&filter=history&period1=1753019491&period2=17534513921', 'https://finance.yahoo.com/quote/BTC-USD/history/?frequency=1d&filter=history&period1=1753019491&period2=17534513922']\n"
     ]
    }
   ],
   "source": [
    "print(page)"
   ]
  },
  {
   "cell_type": "code",
   "execution_count": null,
   "id": "12239d0b-d611-45aa-a965-c7fb8b83148d",
   "metadata": {},
   "outputs": [],
   "source": [
    "from bs4 import BeautifulSoup\n",
    "import requests\n",
    "\n",
    "house = []\n",
    "\n",
    "for url in page:\n",
    "    response = requests.get(url, headers=headers)\n",
    "\n",
    "    if response.status_code == 200:\n",
    "        soup = BeautifulSoup(response.content, 'html.parser')\n",
    "\n",
    "        listings = soup.find_all('div', class=\"table-container yf-1jecxey\"')\n",
    "        for listing in listings:\n",
    "            if listing.find('div', class_='yf-1jecxey'):\n",
    "                continue\n",
    "\n",
    "            link_tag = listing.find('a', class_='styles_wrapper__H_QG2', href=True)\n",
    "\n",
    "            if link_tag:\n",
    "                full_link = 'https://finance.yahoo.com/' + link_tag['href']\n",
    "                house.append(full_link)"
   ]
  },
  {
   "cell_type": "code",
   "execution_count": null,
   "id": "9af9368a-00df-4d29-838f-4b67548896b0",
   "metadata": {},
   "outputs": [],
   "source": [
    "full_link"
   ]
  },
  {
   "cell_type": "code",
   "execution_count": null,
   "id": "ca447f4d-0698-4dd4-b7bc-91b10f74e426",
   "metadata": {},
   "outputs": [],
   "source": []
  },
  {
   "cell_type": "code",
   "execution_count": null,
   "id": "1d1bf36f-1b18-4118-bfe5-976ec9b01b54",
   "metadata": {},
   "outputs": [],
   "source": [
    "#df2=pd.read_html('https://finance.yahoo.com/quote/BTC-USD/history/?frequency=1d&filter=history&period1=1753019491&period2=1753451392')[1]"
   ]
  },
  {
   "cell_type": "code",
   "execution_count": null,
   "id": "882d54ad-ffd1-4ac5-ac89-f9ea8277d298",
   "metadata": {},
   "outputs": [],
   "source": []
  },
  {
   "cell_type": "code",
   "execution_count": null,
   "id": "7ea73a0c-2721-4b2c-92d6-c26644a8750b",
   "metadata": {},
   "outputs": [],
   "source": [
    "d1 = today.strftime(\"%Y-%m-%d\")\n",
    "end_date = d1\n",
    "d2 = date.today() - timedelta(days=730)\n",
    "d2 = d2.strftime(\"%Y-%m-%d\")\n",
    "start_date = d2\n",
    "\n",
    "data = yf.download('https://finance.yahoo.com/quote/INTC/history/', \n",
    "                      start=start_date, \n",
    "                      end=end_date, \n",
    "                      progress=False)\n",
    "data[\"Date\"] = data.index\n",
    "data = data[[\"Date\", \"Open\", \"High\", \"Low\", \"Close\", \"Adj Close\", \"Volume\"]]\n",
    "data.reset_index(drop=True, inplace=True)\n",
    "print(data.head())"
   ]
  },
  {
   "cell_type": "code",
   "execution_count": null,
   "id": "e58d8623-1bf8-485b-9d9d-102727c7b6da",
   "metadata": {},
   "outputs": [],
   "source": []
  }
 ],
 "metadata": {
  "kernelspec": {
   "display_name": "Python [conda env:base] *",
   "language": "python",
   "name": "conda-base-py"
  },
  "language_info": {
   "codemirror_mode": {
    "name": "ipython",
    "version": 3
   },
   "file_extension": ".py",
   "mimetype": "text/x-python",
   "name": "python",
   "nbconvert_exporter": "python",
   "pygments_lexer": "ipython3",
   "version": "3.12.7"
  }
 },
 "nbformat": 4,
 "nbformat_minor": 5
}
