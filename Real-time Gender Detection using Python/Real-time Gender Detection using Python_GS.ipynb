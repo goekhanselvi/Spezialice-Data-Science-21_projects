{
 "cells": [
  {
   "cell_type": "markdown",
   "id": "112891c1-28ec-48a7-b078-85b18efeb9f7",
   "metadata": {},
   "source": [
    "# Real-time Gender Detection using Python"
   ]
  },
  {
   "cell_type": "code",
   "execution_count": null,
   "id": "a9bd7af2-0286-4f13-969c-e6a076635e4f",
   "metadata": {},
   "outputs": [],
   "source": []
  },
  {
   "cell_type": "code",
   "execution_count": null,
   "id": "4d39fd4b-8c94-4e75-8686-812eacbccd20",
   "metadata": {},
   "outputs": [],
   "source": []
  },
  {
   "cell_type": "code",
   "execution_count": 2,
   "id": "2dd3b366-0849-4917-8c17-21d895588483",
   "metadata": {},
   "outputs": [],
   "source": [
    "#pip install cvlib"
   ]
  },
  {
   "cell_type": "code",
   "execution_count": 3,
   "id": "a253cd92-5547-4984-8f48-cb49a19854f7",
   "metadata": {},
   "outputs": [
    {
     "name": "stderr",
     "output_type": "stream",
     "text": [
      "C:\\Users\\P53\\anaconda3\\Lib\\site-packages\\cvlib\\face_detection.py:8: UserWarning: pkg_resources is deprecated as an API. See https://setuptools.pypa.io/en/latest/pkg_resources.html. The pkg_resources package is slated for removal as early as 2025-11-30. Refrain from using this package or pin to Setuptools<81.\n",
      "  from pkg_resources import resource_filename, Requirement\n"
     ]
    },
    {
     "ename": "AttributeError",
     "evalue": "'NoneType' object has no attribute 'shape'",
     "output_type": "error",
     "traceback": [
      "\u001b[1;31m---------------------------------------------------------------------------\u001b[0m",
      "\u001b[1;31mAttributeError\u001b[0m                            Traceback (most recent call last)",
      "Cell \u001b[1;32mIn[3], line 8\u001b[0m\n\u001b[0;32m      6\u001b[0m \u001b[38;5;28;01mwhile\u001b[39;00m webcam\u001b[38;5;241m.\u001b[39misOpened():\n\u001b[0;32m      7\u001b[0m     ret,frame\u001b[38;5;241m=\u001b[39mwebcam\u001b[38;5;241m.\u001b[39mread()\n\u001b[1;32m----> 8\u001b[0m     bbox,label,conf\u001b[38;5;241m=\u001b[39mcv\u001b[38;5;241m.\u001b[39mdetect_common_objects(frame)\n\u001b[0;32m      9\u001b[0m     out\u001b[38;5;241m=\u001b[39mdraw_bbox(frame,bbox,label,conf)\n\u001b[0;32m     10\u001b[0m     cv2\u001b[38;5;241m.\u001b[39mimshow(\u001b[38;5;124m'\u001b[39m\u001b[38;5;124mgercek zamanli nesne tanima\u001b[39m\u001b[38;5;124m'\u001b[39m, out)\n",
      "File \u001b[1;32m~\\anaconda3\\Lib\\site-packages\\cvlib\\object_detection.py:77\u001b[0m, in \u001b[0;36mdetect_common_objects\u001b[1;34m(image, confidence, nms_thresh, model, enable_gpu)\u001b[0m\n\u001b[0;32m     66\u001b[0m \u001b[38;5;28;01mdef\u001b[39;00m\u001b[38;5;250m \u001b[39m\u001b[38;5;21mdetect_common_objects\u001b[39m(image, confidence\u001b[38;5;241m=\u001b[39m\u001b[38;5;241m0.5\u001b[39m, nms_thresh\u001b[38;5;241m=\u001b[39m\u001b[38;5;241m0.3\u001b[39m, model\u001b[38;5;241m=\u001b[39m\u001b[38;5;124m'\u001b[39m\u001b[38;5;124myolov4\u001b[39m\u001b[38;5;124m'\u001b[39m, enable_gpu\u001b[38;5;241m=\u001b[39m\u001b[38;5;28;01mFalse\u001b[39;00m):\n\u001b[0;32m     67\u001b[0m \u001b[38;5;250m    \u001b[39m\u001b[38;5;124;03m\"\"\"A method to detect common objects\u001b[39;00m\n\u001b[0;32m     68\u001b[0m \u001b[38;5;124;03m    Args:\u001b[39;00m\n\u001b[0;32m     69\u001b[0m \u001b[38;5;124;03m        image: A colour image in a numpy array\u001b[39;00m\n\u001b[1;32m   (...)\u001b[0m\n\u001b[0;32m     74\u001b[0m \n\u001b[0;32m     75\u001b[0m \u001b[38;5;124;03m    \"\"\"\u001b[39;00m\n\u001b[1;32m---> 77\u001b[0m     Height, Width \u001b[38;5;241m=\u001b[39m image\u001b[38;5;241m.\u001b[39mshape[:\u001b[38;5;241m2\u001b[39m]\n\u001b[0;32m     78\u001b[0m     scale \u001b[38;5;241m=\u001b[39m \u001b[38;5;241m0.00392\u001b[39m\n\u001b[0;32m     80\u001b[0m     \u001b[38;5;28;01mglobal\u001b[39;00m classes\n",
      "\u001b[1;31mAttributeError\u001b[0m: 'NoneType' object has no attribute 'shape'"
     ]
    }
   ],
   "source": [
    "import cv2\n",
    "from cvlib.object_detection import draw_bbox\n",
    "import cvlib as cv\n",
    "\n",
    "webcam=cv2.VideoCapture(0)\n",
    "while webcam.isOpened():\n",
    "    ret,frame=webcam.read()\n",
    "    bbox,label,conf=cv.detect_common_objects(frame)\n",
    "    out=draw_bbox(frame,bbox,label,conf)\n",
    "    cv2.imshow('gercek zamanli nesne tanima', out)\n",
    "    if cv2.waitKey(1) & 0XFF==ord('q'):\n",
    "        break\n",
    "webcam.release()"
   ]
  },
  {
   "cell_type": "code",
   "execution_count": null,
   "id": "ebc0e3e2-0ede-4b8b-8aa7-b373e488827d",
   "metadata": {},
   "outputs": [],
   "source": []
  }
 ],
 "metadata": {
  "kernelspec": {
   "display_name": "Python [conda env:base] *",
   "language": "python",
   "name": "conda-base-py"
  },
  "language_info": {
   "codemirror_mode": {
    "name": "ipython",
    "version": 3
   },
   "file_extension": ".py",
   "mimetype": "text/x-python",
   "name": "python",
   "nbconvert_exporter": "python",
   "pygments_lexer": "ipython3",
   "version": "3.12.7"
  }
 },
 "nbformat": 4,
 "nbformat_minor": 5
}
