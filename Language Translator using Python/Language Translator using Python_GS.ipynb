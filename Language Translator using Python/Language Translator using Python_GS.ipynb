{
 "cells": [
  {
   "cell_type": "markdown",
   "id": "9b3b5bfb-c601-439e-ad5c-b9cfd041b04b",
   "metadata": {},
   "source": [
    "# Language Translator using Python"
   ]
  },
  {
   "cell_type": "markdown",
   "id": "a21d3e8c-ecc3-48e0-9ecb-429b4dfbead9",
   "metadata": {},
   "source": [
    "<img src='f.jpg' width=800>"
   ]
  },
  {
   "cell_type": "code",
   "execution_count": null,
   "id": "ba7520ea-1e00-4833-9c04-9d17b62ec79e",
   "metadata": {},
   "outputs": [],
   "source": []
  },
  {
   "cell_type": "code",
   "execution_count": 18,
   "id": "5ed70571-b5a5-4ede-81e8-d93bbadf5232",
   "metadata": {},
   "outputs": [],
   "source": [
    "#pip install textblob==0.17.1"
   ]
  },
  {
   "cell_type": "code",
   "execution_count": 16,
   "id": "e3a6da44-091b-4f1b-a843-45004aed4a85",
   "metadata": {},
   "outputs": [],
   "source": [
    "from textblob import TextBlob"
   ]
  },
  {
   "cell_type": "code",
   "execution_count": 22,
   "id": "9ef36c0e-d781-4630-901d-af26acfce62b",
   "metadata": {},
   "outputs": [],
   "source": [
    "b=TextBlob('Python kullanarak Dil Çevirmeni')"
   ]
  },
  {
   "cell_type": "code",
   "execution_count": 24,
   "id": "920b9133-5e39-4ab5-96a4-55e825725d22",
   "metadata": {},
   "outputs": [
    {
     "data": {
      "text/plain": [
       "TextBlob(\"Traducteur de langue utilisant Python\")"
      ]
     },
     "execution_count": 24,
     "metadata": {},
     "output_type": "execute_result"
    }
   ],
   "source": [
    "b.translate(from_lang='tr', to='fr')"
   ]
  },
  {
   "cell_type": "raw",
   "id": "cfa82d4d-0686-4266-8928-abdbbd143828",
   "metadata": {},
   "source": [
    "Ayni sekilde visual Studio da yaptigim calismalarla tr-de ve tr-fr cevirileri basarilya tamamladim"
   ]
  },
  {
   "cell_type": "markdown",
   "id": "4c018e2d-4ae1-4cb3-ba3c-e63396c3b004",
   "metadata": {},
   "source": [
    "<img src='app.jpg'>\n",
    "<img src='tr-de.jpg'>\n",
    "<img src='tr-fr.jpg'>"
   ]
  },
  {
   "cell_type": "raw",
   "id": "67cbb223-ca3a-4038-9ffa-642efd28a0a3",
   "metadata": {},
   "source": [
    "Özet\n",
    "Google geliştiricileri tarafından geliştirilen Google çeviri API'sini kullanarak Python'u kullanarak bir dil çevirmeni bu şekilde oluşturabiliriz. Bu uygulamayı daha fazla dil ve daha etkileşimli bir kullanıcı arayüzü ile deneyebilirsiniz."
   ]
  },
  {
   "cell_type": "code",
   "execution_count": null,
   "id": "90c131c4-17b0-4ca9-a2eb-aab37e3c3fe1",
   "metadata": {},
   "outputs": [],
   "source": []
  }
 ],
 "metadata": {
  "kernelspec": {
   "display_name": "Python [conda env:base] *",
   "language": "python",
   "name": "conda-base-py"
  },
  "language_info": {
   "codemirror_mode": {
    "name": "ipython",
    "version": 3
   },
   "file_extension": ".py",
   "mimetype": "text/x-python",
   "name": "python",
   "nbconvert_exporter": "python",
   "pygments_lexer": "ipython3",
   "version": "3.12.7"
  }
 },
 "nbformat": 4,
 "nbformat_minor": 5
}
